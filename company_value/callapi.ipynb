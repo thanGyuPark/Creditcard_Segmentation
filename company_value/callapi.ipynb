{
 "cells": [
  {
   "cell_type": "code",
   "execution_count": 1,
   "id": "da7556be",
   "metadata": {},
   "outputs": [
    {
     "name": "stdout",
     "output_type": "stream",
     "text": [
      "✅ 응답 성공\n",
      "<?xml version=\"1.0\" encoding=\"UTF-8\"?>\n",
      "<result>\n",
      "  <header>\n",
      "    <process>\n",
      "      <code>902</code>\n",
      "      <message>해당 OPENAPI의 서비스 권한이 존재하지 않습니다.</message>\n",
      "    </process>\n",
      "  </header>\n",
      "</result>\n"
     ]
    }
   ],
   "source": [
    "import requests\n",
    "\n",
    "# ✅ 인증키 (주의: 실무에선 환경변수나 secrets로 분리 관리 추천)\n",
    "AUTH_KEY = \"inu=0XlxbTS069ZThQY=jBaJZdYW3vhP8f66Yz90y3M=\"\n",
    "API_TYPE = \"TO0\"  # 예시: 통합 서비스 유형 (TO0 또는 GR0 등)\n",
    "\n",
    "# ✅ 요청 파라미터\n",
    "localcode = \"1100000\"   # 서울시 코드 예시\n",
    "bgnYmd = \"20240501\"\n",
    "endYmd = \"20240603\"\n",
    "\n",
    "# ✅ API URL 구성\n",
    "url = (\n",
    "    f\"http://www.localdata.go.kr/platform/rest/{API_TYPE}/openDataApi\"\n",
    "    f\"?authKey={AUTH_KEY}\"\n",
    ")\n",
    "\n",
    "# 조건 파라미터 추가\n",
    "if localcode:\n",
    "    url += f\"&localCode={localcode}\"\n",
    "if bgnYmd and endYmd:\n",
    "    url += f\"&bgnYmd={bgnYmd}&endYmd={endYmd}\"\n",
    "\n",
    "# ✅ GET 요청\n",
    "response = requests.get(url)\n",
    "\n",
    "# ✅ 응답 처리\n",
    "if response.status_code == 200:\n",
    "    print(\"✅ 응답 성공\")\n",
    "    print(response.text[:1000])  # (너무 길 수 있으니 앞부분만 출력)\n",
    "else:\n",
    "    print(f\"❌ 요청 실패: {response.status_code}\")"
   ]
  },
  {
   "cell_type": "code",
   "execution_count": 2,
   "id": "70268420",
   "metadata": {},
   "outputs": [
    {
     "name": "stdout",
     "output_type": "stream",
     "text": [
      "Collecting flask\n",
      "  Downloading flask-3.1.1-py3-none-any.whl.metadata (3.0 kB)\n",
      "Requirement already satisfied: requests in /opt/homebrew/lib/python3.10/site-packages (2.32.3)\n",
      "Collecting blinker>=1.9.0 (from flask)\n",
      "  Using cached blinker-1.9.0-py3-none-any.whl.metadata (1.6 kB)\n",
      "Collecting click>=8.1.3 (from flask)\n",
      "  Downloading click-8.2.1-py3-none-any.whl.metadata (2.5 kB)\n",
      "Collecting itsdangerous>=2.2.0 (from flask)\n",
      "  Using cached itsdangerous-2.2.0-py3-none-any.whl.metadata (1.9 kB)\n",
      "Requirement already satisfied: jinja2>=3.1.2 in /Users/parkchangyu/Library/Python/3.10/lib/python/site-packages (from flask) (3.1.2)\n",
      "Requirement already satisfied: markupsafe>=2.1.1 in /Users/parkchangyu/Library/Python/3.10/lib/python/site-packages (from flask) (2.1.1)\n",
      "Collecting werkzeug>=3.1.0 (from flask)\n",
      "  Using cached werkzeug-3.1.3-py3-none-any.whl.metadata (3.7 kB)\n",
      "Requirement already satisfied: charset-normalizer<4,>=2 in /opt/homebrew/lib/python3.10/site-packages (from requests) (3.4.1)\n",
      "Requirement already satisfied: idna<4,>=2.5 in /Users/parkchangyu/Library/Python/3.10/lib/python/site-packages (from requests) (3.4)\n",
      "Requirement already satisfied: urllib3<3,>=1.21.1 in /opt/homebrew/lib/python3.10/site-packages (from requests) (2.3.0)\n",
      "Requirement already satisfied: certifi>=2017.4.17 in /opt/homebrew/lib/python3.10/site-packages (from requests) (2025.1.31)\n",
      "Downloading flask-3.1.1-py3-none-any.whl (103 kB)\n",
      "Using cached blinker-1.9.0-py3-none-any.whl (8.5 kB)\n",
      "Downloading click-8.2.1-py3-none-any.whl (102 kB)\n",
      "Using cached itsdangerous-2.2.0-py3-none-any.whl (16 kB)\n",
      "Using cached werkzeug-3.1.3-py3-none-any.whl (224 kB)\n",
      "Installing collected packages: werkzeug, itsdangerous, click, blinker, flask\n",
      "Successfully installed blinker-1.9.0 click-8.2.1 flask-3.1.1 itsdangerous-2.2.0 werkzeug-3.1.3\n",
      "\n",
      "\u001b[1m[\u001b[0m\u001b[34;49mnotice\u001b[0m\u001b[1;39;49m]\u001b[0m\u001b[39;49m A new release of pip is available: \u001b[0m\u001b[31;49m25.0.1\u001b[0m\u001b[39;49m -> \u001b[0m\u001b[32;49m25.1.1\u001b[0m\n",
      "\u001b[1m[\u001b[0m\u001b[34;49mnotice\u001b[0m\u001b[1;39;49m]\u001b[0m\u001b[39;49m To update, run: \u001b[0m\u001b[32;49mpython3.10 -m pip install --upgrade pip\u001b[0m\n",
      "Note: you may need to restart the kernel to use updated packages.\n"
     ]
    }
   ],
   "source": [
    "%pip install flask requests"
   ]
  }
 ],
 "metadata": {
  "kernelspec": {
   "display_name": "Python 3",
   "language": "python",
   "name": "python3"
  },
  "language_info": {
   "codemirror_mode": {
    "name": "ipython",
    "version": 3
   },
   "file_extension": ".py",
   "mimetype": "text/x-python",
   "name": "python",
   "nbconvert_exporter": "python",
   "pygments_lexer": "ipython3",
   "version": "3.10.16"
  }
 },
 "nbformat": 4,
 "nbformat_minor": 5
}
