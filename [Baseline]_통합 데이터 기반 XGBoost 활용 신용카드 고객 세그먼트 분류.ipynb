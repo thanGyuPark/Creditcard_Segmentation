{
 "cells": [
  {
   "cell_type": "markdown",
   "metadata": {},
   "source": [
    "### Import"
   ]
  },
  {
   "cell_type": "code",
   "execution_count": 1,
   "metadata": {},
   "outputs": [],
   "source": [
    "import pandas as pd\n",
    "import numpy as np\n",
    "import gc\n",
    "\n",
    "import xgboost as xgb\n",
    "from sklearn.preprocessing import LabelEncoder"
   ]
  },
  {
   "cell_type": "code",
   "execution_count": 7,
   "metadata": {},
   "outputs": [
    {
     "name": "stdout",
     "output_type": "stream",
     "text": [
      "Requirement already satisfied: pyarrow in /opt/homebrew/lib/python3.10/site-packages (19.0.1)\n",
      "Requirement already satisfied: fastparquet in /opt/homebrew/lib/python3.10/site-packages (2024.11.0)\n",
      "\u001b[31mERROR: Could not find a version that satisfies the requirement pytables (from versions: none)\u001b[0m\u001b[31m\n",
      "\u001b[0m\n",
      "\u001b[1m[\u001b[0m\u001b[34;49mnotice\u001b[0m\u001b[1;39;49m]\u001b[0m\u001b[39;49m A new release of pip is available: \u001b[0m\u001b[31;49m24.3.1\u001b[0m\u001b[39;49m -> \u001b[0m\u001b[32;49m25.0.1\u001b[0m\n",
      "\u001b[1m[\u001b[0m\u001b[34;49mnotice\u001b[0m\u001b[1;39;49m]\u001b[0m\u001b[39;49m To update, run: \u001b[0m\u001b[32;49mpython3.10 -m pip install --upgrade pip\u001b[0m\n",
      "\u001b[31mERROR: No matching distribution found for pytables\u001b[0m\u001b[31m\n",
      "\u001b[0mNote: you may need to restart the kernel to use updated packages.\n"
     ]
    }
   ],
   "source": [
    "%pip install pyarrow fastparquet pytables"
   ]
  },
  {
   "cell_type": "markdown",
   "metadata": {},
   "source": [
    "### Data Load"
   ]
  },
  {
   "cell_type": "code",
   "execution_count": 2,
   "metadata": {},
   "outputs": [
    {
     "name": "stdout",
     "output_type": "stream",
     "text": [
      "customer_train_07 is loaded from ./train/1.회원정보/201807_train_회원정보.parquet\n",
      "customer_train_08 is loaded from ./train/1.회원정보/201808_train_회원정보.parquet\n",
      "customer_train_09 is loaded from ./train/1.회원정보/201809_train_회원정보.parquet\n",
      "customer_train_10 is loaded from ./train/1.회원정보/201810_train_회원정보.parquet\n",
      "customer_train_11 is loaded from ./train/1.회원정보/201811_train_회원정보.parquet\n",
      "customer_train_12 is loaded from ./train/1.회원정보/201812_train_회원정보.parquet\n",
      "credit_train_07 is loaded from ./train/2.신용정보/201807_train_신용정보.parquet\n",
      "credit_train_08 is loaded from ./train/2.신용정보/201808_train_신용정보.parquet\n",
      "credit_train_09 is loaded from ./train/2.신용정보/201809_train_신용정보.parquet\n",
      "credit_train_10 is loaded from ./train/2.신용정보/201810_train_신용정보.parquet\n",
      "credit_train_11 is loaded from ./train/2.신용정보/201811_train_신용정보.parquet\n",
      "credit_train_12 is loaded from ./train/2.신용정보/201812_train_신용정보.parquet\n",
      "sales_train_07 is loaded from ./train/3.승인매출정보/201807_train_승인매출정보.parquet\n",
      "sales_train_08 is loaded from ./train/3.승인매출정보/201808_train_승인매출정보.parquet\n",
      "sales_train_09 is loaded from ./train/3.승인매출정보/201809_train_승인매출정보.parquet\n",
      "sales_train_10 is loaded from ./train/3.승인매출정보/201810_train_승인매출정보.parquet\n",
      "sales_train_11 is loaded from ./train/3.승인매출정보/201811_train_승인매출정보.parquet\n",
      "sales_train_12 is loaded from ./train/3.승인매출정보/201812_train_승인매출정보.parquet\n",
      "billing_train_07 is loaded from ./train/4.청구입금정보/201807_train_청구정보.parquet\n",
      "billing_train_08 is loaded from ./train/4.청구입금정보/201808_train_청구정보.parquet\n",
      "billing_train_09 is loaded from ./train/4.청구입금정보/201809_train_청구정보.parquet\n",
      "billing_train_10 is loaded from ./train/4.청구입금정보/201810_train_청구정보.parquet\n",
      "billing_train_11 is loaded from ./train/4.청구입금정보/201811_train_청구정보.parquet\n",
      "billing_train_12 is loaded from ./train/4.청구입금정보/201812_train_청구정보.parquet\n",
      "balance_train_07 is loaded from ./train/5.잔액정보/201807_train_잔액정보.parquet\n",
      "balance_train_08 is loaded from ./train/5.잔액정보/201808_train_잔액정보.parquet\n",
      "balance_train_09 is loaded from ./train/5.잔액정보/201809_train_잔액정보.parquet\n",
      "balance_train_10 is loaded from ./train/5.잔액정보/201810_train_잔액정보.parquet\n",
      "balance_train_11 is loaded from ./train/5.잔액정보/201811_train_잔액정보.parquet\n",
      "balance_train_12 is loaded from ./train/5.잔액정보/201812_train_잔액정보.parquet\n",
      "channel_train_07 is loaded from ./train/6.채널정보/201807_train_채널정보.parquet\n",
      "channel_train_08 is loaded from ./train/6.채널정보/201808_train_채널정보.parquet\n",
      "channel_train_09 is loaded from ./train/6.채널정보/201809_train_채널정보.parquet\n",
      "channel_train_10 is loaded from ./train/6.채널정보/201810_train_채널정보.parquet\n",
      "channel_train_11 is loaded from ./train/6.채널정보/201811_train_채널정보.parquet\n",
      "channel_train_12 is loaded from ./train/6.채널정보/201812_train_채널정보.parquet\n",
      "marketing_train_07 is loaded from ./train/7.마케팅정보/201807_train_마케팅정보.parquet\n",
      "marketing_train_08 is loaded from ./train/7.마케팅정보/201808_train_마케팅정보.parquet\n",
      "marketing_train_09 is loaded from ./train/7.마케팅정보/201809_train_마케팅정보.parquet\n",
      "marketing_train_10 is loaded from ./train/7.마케팅정보/201810_train_마케팅정보.parquet\n",
      "marketing_train_11 is loaded from ./train/7.마케팅정보/201811_train_마케팅정보.parquet\n",
      "marketing_train_12 is loaded from ./train/7.마케팅정보/201812_train_마케팅정보.parquet\n",
      "performance_train_07 is loaded from ./train/8.성과정보/201807_train_성과정보.parquet\n",
      "performance_train_08 is loaded from ./train/8.성과정보/201808_train_성과정보.parquet\n",
      "performance_train_09 is loaded from ./train/8.성과정보/201809_train_성과정보.parquet\n",
      "performance_train_10 is loaded from ./train/8.성과정보/201810_train_성과정보.parquet\n",
      "performance_train_11 is loaded from ./train/8.성과정보/201811_train_성과정보.parquet\n",
      "performance_train_12 is loaded from ./train/8.성과정보/201812_train_성과정보.parquet\n",
      "customer_test_07 is loaded from ./test/1.회원정보/201807_test_회원정보.parquet\n",
      "customer_test_08 is loaded from ./test/1.회원정보/201808_test_회원정보.parquet\n",
      "customer_test_09 is loaded from ./test/1.회원정보/201809_test_회원정보.parquet\n",
      "customer_test_10 is loaded from ./test/1.회원정보/201810_test_회원정보.parquet\n",
      "customer_test_11 is loaded from ./test/1.회원정보/201811_test_회원정보.parquet\n",
      "customer_test_12 is loaded from ./test/1.회원정보/201812_test_회원정보.parquet\n",
      "credit_test_07 is loaded from ./test/2.신용정보/201807_test_신용정보.parquet\n",
      "credit_test_08 is loaded from ./test/2.신용정보/201808_test_신용정보.parquet\n",
      "credit_test_09 is loaded from ./test/2.신용정보/201809_test_신용정보.parquet\n",
      "credit_test_10 is loaded from ./test/2.신용정보/201810_test_신용정보.parquet\n",
      "credit_test_11 is loaded from ./test/2.신용정보/201811_test_신용정보.parquet\n",
      "credit_test_12 is loaded from ./test/2.신용정보/201812_test_신용정보.parquet\n",
      "sales_test_07 is loaded from ./test/3.승인매출정보/201807_test_승인매출정보.parquet\n",
      "sales_test_08 is loaded from ./test/3.승인매출정보/201808_test_승인매출정보.parquet\n",
      "sales_test_09 is loaded from ./test/3.승인매출정보/201809_test_승인매출정보.parquet\n",
      "sales_test_10 is loaded from ./test/3.승인매출정보/201810_test_승인매출정보.parquet\n",
      "sales_test_11 is loaded from ./test/3.승인매출정보/201811_test_승인매출정보.parquet\n",
      "sales_test_12 is loaded from ./test/3.승인매출정보/201812_test_승인매출정보.parquet\n",
      "billing_test_07 is loaded from ./test/4.청구입금정보/201807_test_청구정보.parquet\n",
      "billing_test_08 is loaded from ./test/4.청구입금정보/201808_test_청구정보.parquet\n",
      "billing_test_09 is loaded from ./test/4.청구입금정보/201809_test_청구정보.parquet\n",
      "billing_test_10 is loaded from ./test/4.청구입금정보/201810_test_청구정보.parquet\n",
      "billing_test_11 is loaded from ./test/4.청구입금정보/201811_test_청구정보.parquet\n",
      "billing_test_12 is loaded from ./test/4.청구입금정보/201812_test_청구정보.parquet\n",
      "balance_test_07 is loaded from ./test/5.잔액정보/201807_test_잔액정보.parquet\n",
      "balance_test_08 is loaded from ./test/5.잔액정보/201808_test_잔액정보.parquet\n",
      "balance_test_09 is loaded from ./test/5.잔액정보/201809_test_잔액정보.parquet\n",
      "balance_test_10 is loaded from ./test/5.잔액정보/201810_test_잔액정보.parquet\n",
      "balance_test_11 is loaded from ./test/5.잔액정보/201811_test_잔액정보.parquet\n",
      "balance_test_12 is loaded from ./test/5.잔액정보/201812_test_잔액정보.parquet\n",
      "channel_test_07 is loaded from ./test/6.채널정보/201807_test_채널정보.parquet\n",
      "channel_test_08 is loaded from ./test/6.채널정보/201808_test_채널정보.parquet\n",
      "channel_test_09 is loaded from ./test/6.채널정보/201809_test_채널정보.parquet\n",
      "channel_test_10 is loaded from ./test/6.채널정보/201810_test_채널정보.parquet\n",
      "channel_test_11 is loaded from ./test/6.채널정보/201811_test_채널정보.parquet\n",
      "channel_test_12 is loaded from ./test/6.채널정보/201812_test_채널정보.parquet\n",
      "marketing_test_07 is loaded from ./test/7.마케팅정보/201807_test_마케팅정보.parquet\n",
      "marketing_test_08 is loaded from ./test/7.마케팅정보/201808_test_마케팅정보.parquet\n",
      "marketing_test_09 is loaded from ./test/7.마케팅정보/201809_test_마케팅정보.parquet\n",
      "marketing_test_10 is loaded from ./test/7.마케팅정보/201810_test_마케팅정보.parquet\n",
      "marketing_test_11 is loaded from ./test/7.마케팅정보/201811_test_마케팅정보.parquet\n",
      "marketing_test_12 is loaded from ./test/7.마케팅정보/201812_test_마케팅정보.parquet\n",
      "performance_test_07 is loaded from ./test/8.성과정보/201807_test_성과정보.parquet\n",
      "performance_test_08 is loaded from ./test/8.성과정보/201808_test_성과정보.parquet\n",
      "performance_test_09 is loaded from ./test/8.성과정보/201809_test_성과정보.parquet\n",
      "performance_test_10 is loaded from ./test/8.성과정보/201810_test_성과정보.parquet\n",
      "performance_test_11 is loaded from ./test/8.성과정보/201811_test_성과정보.parquet\n",
      "performance_test_12 is loaded from ./test/8.성과정보/201812_test_성과정보.parquet\n"
     ]
    },
    {
     "data": {
      "text/plain": [
       "0"
      ]
     },
     "execution_count": 2,
     "metadata": {},
     "output_type": "execute_result"
    }
   ],
   "source": [
    "# 데이터 분할(폴더) 구분\n",
    "data_splits = [\"train\", \"test\"]\n",
    "\n",
    "# 각 데이터 유형별 폴더명, 파일 접미사, 변수 접두어 설정\n",
    "data_categories = {\n",
    "    \"회원정보\": {\"folder\": \"1.회원정보\", \"suffix\": \"회원정보\", \"var_prefix\": \"customer\"},\n",
    "    \"신용정보\": {\"folder\": \"2.신용정보\", \"suffix\": \"신용정보\", \"var_prefix\": \"credit\"},\n",
    "    \"승인매출정보\": {\"folder\": \"3.승인매출정보\", \"suffix\": \"승인매출정보\", \"var_prefix\": \"sales\"},\n",
    "    \"청구정보\": {\"folder\": \"4.청구입금정보\", \"suffix\": \"청구정보\", \"var_prefix\": \"billing\"},\n",
    "    \"잔액정보\": {\"folder\": \"5.잔액정보\", \"suffix\": \"잔액정보\", \"var_prefix\": \"balance\"},\n",
    "    \"채널정보\": {\"folder\": \"6.채널정보\", \"suffix\": \"채널정보\", \"var_prefix\": \"channel\"},\n",
    "    \"마케팅정보\": {\"folder\": \"7.마케팅정보\", \"suffix\": \"마케팅정보\", \"var_prefix\": \"marketing\"},\n",
    "    \"성과정보\": {\"folder\": \"8.성과정보\", \"suffix\": \"성과정보\", \"var_prefix\": \"performance\"}\n",
    "}\n",
    "\n",
    "# 2018년 7월부터 12월까지의 월 리스트\n",
    "months = ['07', '08', '09', '10', '11', '12']\n",
    "\n",
    "for split in data_splits:\n",
    "    for category, info in data_categories.items():\n",
    "        folder = info[\"folder\"]\n",
    "        suffix = info[\"suffix\"]\n",
    "        var_prefix = info[\"var_prefix\"]\n",
    "        \n",
    "        for month in months:\n",
    "            # 파일명 형식: 2018{month}_{split}_{suffix}.parquet\n",
    "            file_path = f\"./{split}/{folder}/2018{month}_{split}_{suffix}.parquet\"\n",
    "            # 변수명 형식: {var_prefix}_{split}_{month}\n",
    "            variable_name = f\"{var_prefix}_{split}_{month}\"\n",
    "            globals()[variable_name] = pd.read_parquet(file_path)\n",
    "            print(f\"{variable_name} is loaded from {file_path}\")\n",
    "\n",
    "gc.collect()"
   ]
  },
  {
   "cell_type": "markdown",
   "metadata": {},
   "source": [
    "### Data Preprocessing(1) : Concat & Merge"
   ]
  },
  {
   "cell_type": "code",
   "execution_count": 3,
   "metadata": {},
   "outputs": [],
   "source": [
    "# 데이터 유형별 설정 \n",
    "info_categories = [\"customer\", \"credit\", \"sales\", \"billing\", \"balance\", \"channel\", \"marketing\", \"performance\"]\n",
    "\n",
    "# 월 설정\n",
    "months = ['07', '08', '09', '10', '11', '12']"
   ]
  },
  {
   "cell_type": "code",
   "execution_count": 4,
   "metadata": {},
   "outputs": [
    {
     "name": "stdout",
     "output_type": "stream",
     "text": [
      "customer_train_df is created with shape: (2400000, 78)\n",
      "credit_train_df is created with shape: (2400000, 42)\n",
      "sales_train_df is created with shape: (2400000, 406)\n",
      "billing_train_df is created with shape: (2400000, 46)\n",
      "balance_train_df is created with shape: (2400000, 82)\n",
      "channel_train_df is created with shape: (2400000, 105)\n",
      "marketing_train_df is created with shape: (2400000, 64)\n",
      "performance_train_df is created with shape: (2400000, 49)\n"
     ]
    },
    {
     "data": {
      "text/plain": [
       "0"
      ]
     },
     "execution_count": 4,
     "metadata": {},
     "output_type": "execute_result"
    }
   ],
   "source": [
    "#### Train ####\n",
    "\n",
    "# 각 유형별로 월별 데이터를 합쳐서 새로운 변수에 저장\n",
    "train_dfs = {}\n",
    "\n",
    "for prefix in info_categories:\n",
    "    # globals()에서 동적 변수명으로 데이터프레임들을 가져와 리스트에 저장\n",
    "    df_list = [globals()[f\"{prefix}_train_{month}\"] for month in months]\n",
    "    train_dfs[f\"{prefix}_train_df\"] = pd.concat(df_list, axis=0)\n",
    "    gc.collect()\n",
    "    print(f\"{prefix}_train_df is created with shape: {train_dfs[f'{prefix}_train_df'].shape}\")\n",
    "\n",
    "\n",
    "customer_train_df = train_dfs[\"customer_train_df\"]\n",
    "credit_train_df   = train_dfs[\"credit_train_df\"]\n",
    "sales_train_df    = train_dfs[\"sales_train_df\"]\n",
    "billing_train_df  = train_dfs[\"billing_train_df\"]\n",
    "balance_train_df  = train_dfs[\"balance_train_df\"]\n",
    "channel_train_df  = train_dfs[\"channel_train_df\"]\n",
    "marketing_train_df= train_dfs[\"marketing_train_df\"]\n",
    "performance_train_df = train_dfs[\"performance_train_df\"]\n",
    "\n",
    "gc.collect()"
   ]
  },
  {
   "cell_type": "code",
   "execution_count": 5,
   "metadata": {},
   "outputs": [
    {
     "name": "stdout",
     "output_type": "stream",
     "text": [
      "customer_test_df is created with shape: (600000, 77)\n",
      "credit_test_df is created with shape: (600000, 42)\n",
      "sales_test_df is created with shape: (600000, 406)\n",
      "billing_test_df is created with shape: (600000, 46)\n",
      "balance_test_df is created with shape: (600000, 82)\n",
      "channel_test_df is created with shape: (600000, 105)\n",
      "marketing_test_df is created with shape: (600000, 64)\n",
      "performance_test_df is created with shape: (600000, 49)\n"
     ]
    },
    {
     "data": {
      "text/plain": [
       "0"
      ]
     },
     "execution_count": 5,
     "metadata": {},
     "output_type": "execute_result"
    }
   ],
   "source": [
    "#### Test ####\n",
    "\n",
    "# test 데이터에 대해 train과 동일한 방법 적용\n",
    "test_dfs = {}\n",
    "\n",
    "for prefix in info_categories:\n",
    "    df_list = [globals()[f\"{prefix}_test_{month}\"] for month in months]\n",
    "    test_dfs[f\"{prefix}_test_df\"] = pd.concat(df_list, axis=0)\n",
    "    gc.collect()\n",
    "    print(f\"{prefix}_test_df is created with shape: {test_dfs[f'{prefix}_test_df'].shape}\")\n",
    "\n",
    "\n",
    "customer_test_df = test_dfs[\"customer_test_df\"]\n",
    "credit_test_df   = test_dfs[\"credit_test_df\"]\n",
    "sales_test_df    = test_dfs[\"sales_test_df\"]\n",
    "billing_test_df  = test_dfs[\"billing_test_df\"]\n",
    "balance_test_df  = test_dfs[\"balance_test_df\"]\n",
    "channel_test_df  = test_dfs[\"channel_test_df\"]\n",
    "marketing_test_df= test_dfs[\"marketing_test_df\"]\n",
    "performance_test_df = test_dfs[\"performance_test_df\"]\n",
    "\n",
    "gc.collect()"
   ]
  },
  {
   "cell_type": "markdown",
   "metadata": {},
   "source": [
    "#### 터짐"
   ]
  },
  {
   "cell_type": "code",
   "execution_count": 1,
   "metadata": {},
   "outputs": [
    {
     "ename": "NameError",
     "evalue": "name 'customer_train_df' is not defined",
     "output_type": "error",
     "traceback": [
      "\u001b[0;31m---------------------------------------------------------------------------\u001b[0m",
      "\u001b[0;31mNameError\u001b[0m                                 Traceback (most recent call last)",
      "Cell \u001b[0;32mIn[1], line 3\u001b[0m\n\u001b[1;32m      1\u001b[0m \u001b[38;5;66;03m#### Train ####\u001b[39;00m\n\u001b[0;32m----> 3\u001b[0m train_df \u001b[38;5;241m=\u001b[39m \u001b[43mcustomer_train_df\u001b[49m\u001b[38;5;241m.\u001b[39mmerge(credit_train_df, on\u001b[38;5;241m=\u001b[39m[\u001b[38;5;124m'\u001b[39m\u001b[38;5;124m기준년월\u001b[39m\u001b[38;5;124m'\u001b[39m, \u001b[38;5;124m'\u001b[39m\u001b[38;5;124mID\u001b[39m\u001b[38;5;124m'\u001b[39m], how\u001b[38;5;241m=\u001b[39m\u001b[38;5;124m'\u001b[39m\u001b[38;5;124mleft\u001b[39m\u001b[38;5;124m'\u001b[39m)\n\u001b[1;32m      4\u001b[0m \u001b[38;5;28mprint\u001b[39m(\u001b[38;5;124m\"\u001b[39m\u001b[38;5;124mStep1 저장 완료: train_step1, shape:\u001b[39m\u001b[38;5;124m\"\u001b[39m, train_df\u001b[38;5;241m.\u001b[39mshape)\n\u001b[1;32m      5\u001b[0m \u001b[38;5;28;01mdel\u001b[39;00m customer_train_df, credit_train_df\n",
      "\u001b[0;31mNameError\u001b[0m: name 'customer_train_df' is not defined"
     ]
    }
   ],
   "source": [
    "#### Train ####\n",
    "\n",
    "train_df = customer_train_df.merge(credit_train_df, on=['기준년월', 'ID'], how='left')\n",
    "print(\"Step1 저장 완료: train_step1, shape:\", train_df.shape)\n",
    "del customer_train_df, credit_train_df\n",
    "gc.collect()\n",
    "\n",
    "# 이후 merge할 데이터프레임 이름과 단계 정보를 리스트에 저장\n",
    "merge_list = [\n",
    "    (\"sales_train_df\",    \"Step2\"),\n",
    "    (\"billing_train_df\",  \"Step3\"),\n",
    "    (\"balance_train_df\",  \"Step4\"),\n",
    "    (\"channel_train_df\",  \"Step5\"),\n",
    "    (\"marketing_train_df\",\"Step6\"),\n",
    "    (\"performance_train_df\", \"최종\")\n",
    "]\n",
    "\n",
    "# 나머지 단계 merge\n",
    "for df_name, step in merge_list:\n",
    "    # globals()로 동적 변수 접근하여 merge 수행\n",
    "    train_df = train_df.merge(globals()[df_name], on=['기준년월', 'ID'], how='left')\n",
    "    print(f\"{step} 저장 완료: train_{step}, shape:\", train_df.shape)\n",
    "    # 사용한 변수는 메모리 해제를 위해 삭제\n",
    "    del globals()[df_name]\n",
    "    gc.collect()"
   ]
  },
  {
   "cell_type": "code",
   "execution_count": null,
   "metadata": {},
   "outputs": [],
   "source": [
    "#### Test ####\n",
    "\n",
    "test_df = customer_test_df.merge(credit_test_df, on=['기준년월', 'ID'], how='left')\n",
    "print(\"Step1 저장 완료: test_step1, shape:\", test_df.shape)\n",
    "del customer_test_df, credit_test_df\n",
    "gc.collect()\n",
    "\n",
    "# 이후 merge할 데이터프레임 이름과 단계 정보를 리스트에 저장\n",
    "merge_list = [\n",
    "    (\"sales_test_df\",    \"Step2\"),\n",
    "    (\"billing_test_df\",  \"Step3\"),\n",
    "    (\"balance_test_df\",  \"Step4\"),\n",
    "    (\"channel_test_df\",  \"Step5\"),\n",
    "    (\"marketing_test_df\",\"Step6\"),\n",
    "    (\"performance_test_df\", \"최종\")\n",
    "]\n",
    "\n",
    "# 나머지 단계 merge\n",
    "for df_name, step in merge_list:\n",
    "    # globals()로 동적 변수 접근하여 merge 수행\n",
    "    test_df = test_df.merge(globals()[df_name], on=['기준년월', 'ID'], how='left')\n",
    "    print(f\"{step} 저장 완료: test_{step}, shape:\", test_df.shape)\n",
    "    # 사용한 변수는 메모리 해제를 위해 삭제\n",
    "    del globals()[df_name]\n",
    "    gc.collect()"
   ]
  },
  {
   "cell_type": "markdown",
   "metadata": {},
   "source": [
    "### Data Preprocessing(2) : Encoding"
   ]
  },
  {
   "cell_type": "code",
   "execution_count": null,
   "metadata": {},
   "outputs": [],
   "source": [
    "feature_cols = [col for col in train_df.columns if col not in [\"ID\", \"Segment\"]]\n",
    "\n",
    "X = train_df[feature_cols].copy()\n",
    "y = train_df[\"Segment\"].copy()\n",
    "\n",
    "# 타깃 라벨 인코딩\n",
    "le_target = LabelEncoder()\n",
    "y_encoded = le_target.fit_transform(y)"
   ]
  },
  {
   "cell_type": "code",
   "execution_count": null,
   "metadata": {},
   "outputs": [],
   "source": [
    "categorical_features = X.select_dtypes(include=['object']).columns.tolist()\n",
    "\n",
    "X_test = test_df.copy()\n",
    "\n",
    "encoders = {}  # 각 컬럼별 encoder 저장\n",
    "\n",
    "for col in categorical_features:\n",
    "    le_train = LabelEncoder()\n",
    "    X[col] = le_train.fit_transform(X[col])\n",
    "    encoders[col] = le_train\n",
    "    unseen_labels_val = set(X_test[col]) - set(le_train.classes_)\n",
    "    if unseen_labels_val:\n",
    "        le_train.classes_ = np.append(le_train.classes_, list(unseen_labels_val))\n",
    "    X_test[col] = le_train.transform(X_test[col])"
   ]
  },
  {
   "cell_type": "code",
   "execution_count": null,
   "metadata": {},
   "outputs": [],
   "source": [
    "gc.collect()"
   ]
  },
  {
   "cell_type": "markdown",
   "metadata": {},
   "source": [
    "### Train"
   ]
  },
  {
   "cell_type": "code",
   "execution_count": null,
   "metadata": {},
   "outputs": [],
   "source": [
    "try:\n",
    "    model = xgb.XGBClassifier(\n",
    "        tree_method='gpu_hist',  # GPU 모드 설정\n",
    "        gpu_id=0,\n",
    "        random_state=42\n",
    "    )\n",
    "    print(\"GPU 사용 가능: gpu_hist 모드 적용\")\n",
    "    model.fit(X, y_encoded)\n",
    "    \n",
    "except Exception:\n",
    "    model = xgb.XGBClassifier(\n",
    "        random_state=42\n",
    "    )\n",
    "    print(\"GPU 사용 불가: CPU 모드 적용\")\n",
    "    model.fit(X, y_encoded)"
   ]
  },
  {
   "cell_type": "code",
   "execution_count": null,
   "metadata": {},
   "outputs": [],
   "source": [
    "model.fit(X, y_encoded)"
   ]
  },
  {
   "cell_type": "markdown",
   "metadata": {},
   "source": [
    "### Predict"
   ]
  },
  {
   "cell_type": "code",
   "execution_count": null,
   "metadata": {},
   "outputs": [],
   "source": [
    "X_test.drop(columns=['ID'],inplace=True)"
   ]
  },
  {
   "cell_type": "code",
   "execution_count": null,
   "metadata": {},
   "outputs": [],
   "source": [
    "# row-level 예측 수행\n",
    "y_test_pred = model.predict(X_test)\n",
    "# 예측 결과를 변환\n",
    "y_test_pred_labels = le_target.inverse_transform(y_test_pred)\n",
    "\n",
    "# row 단위 예측 결과를 test_data에 추가\n",
    "test_data = test_df.copy()  # 원본 유지\n",
    "test_data[\"pred_label\"] = y_test_pred_labels"
   ]
  },
  {
   "cell_type": "markdown",
   "metadata": {},
   "source": [
    "### Submission"
   ]
  },
  {
   "cell_type": "code",
   "execution_count": null,
   "metadata": {},
   "outputs": [],
   "source": [
    "submission = test_data.groupby(\"ID\")[\"pred_label\"] \\\n",
    "    .agg(lambda x: x.value_counts().idxmax()) \\\n",
    "    .reset_index()\n",
    "\n",
    "submission.columns = [\"ID\", \"Segment\"]"
   ]
  },
  {
   "cell_type": "code",
   "execution_count": null,
   "metadata": {},
   "outputs": [],
   "source": [
    "submission.to_csv('./base_submit.csv',index=False)"
   ]
  },
  {
   "cell_type": "code",
   "execution_count": null,
   "metadata": {},
   "outputs": [],
   "source": []
  }
 ],
 "metadata": {
  "kernelspec": {
   "display_name": "Python 3",
   "language": "python",
   "name": "python3"
  },
  "language_info": {
   "codemirror_mode": {
    "name": "ipython",
    "version": 3
   },
   "file_extension": ".py",
   "mimetype": "text/x-python",
   "name": "python",
   "nbconvert_exporter": "python",
   "pygments_lexer": "ipython3",
   "version": "3.10.16"
  }
 },
 "nbformat": 4,
 "nbformat_minor": 2
}
